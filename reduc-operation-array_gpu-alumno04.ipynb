{
 "cells": [
  {
   "cell_type": "markdown",
   "id": "9de6917c-5a2c-4d20-a2cc-e3235fba8b65",
   "metadata": {},
   "source": [
    "# LAB-GPU EJERCICIO 2"
   ]
  },
  {
   "cell_type": "markdown",
   "id": "567a407d-3a97-48d8-a8a8-1cbc19681933",
   "metadata": {},
   "source": [
    "### Librerias"
   ]
  },
  {
   "cell_type": "code",
   "execution_count": 1,
   "id": "fb72fbeb-b029-42c0-b3f4-bf471427cb4f",
   "metadata": {},
   "outputs": [],
   "source": [
    "import numpy as np\n",
    "import cupy as cp\n",
    "import time\n",
    "from numba import float32, cuda\n",
    "from IPython import get_ipython"
   ]
  },
  {
   "cell_type": "code",
   "execution_count": 10,
   "id": "e3c600f6-2869-4d62-ba9c-e9ae3fc24f8c",
   "metadata": {},
   "outputs": [],
   "source": [
    "# Funcion usando el método secuencial\n",
    "\n",
    "def reduc_operation(A):\n",
    "    \"\"\"Compute the sum of the elements of Array A in the range [0, value).\"\"\"\n",
    "    s = 0\n",
    "    for i in range(A.size):\n",
    "        s += A[i]\n",
    "    return s\n",
    "\n",
    "# Definir la operación de reducción con cuda\n",
    "\n",
    "@cuda.jit\n",
    "def gpu_reduc_operation(arr, result):\n",
    "    \"\"\"\n",
    "    Suma los elementos de un array utilizando CUDA sin paralelizar el proceso.\n",
    "    Se ejecuta en un único hilo.\n",
    "    \"\"\"\n",
    "    if cuda.threadIdx.x == 0 and cuda.blockIdx.x == 0:  # Asegurar un único hilo\n",
    "        temp_sum = 0.0\n",
    "        for i in range(arr.size):  # Suma secuencial en la GPU\n",
    "            temp_sum += arr[i]\n",
    "        result[0] = temp_sum\n",
    "\n",
    "def reduc_operation_gpu(arr):\n",
    "    \"\"\"\n",
    "    Realiza la suma total del array utilizando Numba CUDA y finaliza con np.sum.\n",
    "    \"\"\"\n",
    "    if not isinstance(arr, np.ndarray):\n",
    "        raise ValueError(\"La entrada debe ser un array de NumPy\")\n",
    "    \n",
    "    # Convertir a float32 para asegurar compatibilidad con CUDA\n",
    "    arr = arr.astype(np.float32)\n",
    "\n",
    "    # Transferir el array a la GPU\n",
    "    d_arr = cuda.to_device(arr)\n",
    "    d_result = cuda.to_device(np.zeros(1, dtype=np.float32))\n",
    "\n",
    "    # Copiar el resultado de vuelta a la CPU\n",
    "    partial_sum = d_result.copy_to_host()\n",
    "\n",
    "    # Usar np.sum para completar la operación\n",
    "    return np.sum(partial_sum)"
   ]
  },
  {
   "cell_type": "markdown",
   "id": "848fa9ea-cf9f-49b5-a7f8-e2c91dc7ff97",
   "metadata": {},
   "source": [
    "### Variables"
   ]
  },
  {
   "cell_type": "code",
   "execution_count": 3,
   "id": "beb9bdc1-1236-48c4-8fe8-10ab7d7145cc",
   "metadata": {},
   "outputs": [
    {
     "name": "stdout",
     "output_type": "stream",
     "text": [
      "\n",
      "Error en el valor de VALUE: invalid literal for int() with base 10: ''. Usando el valor por defecto: 10^6\n",
      "\n",
      "Running with 1000000 elements.\n"
     ]
    }
   ],
   "source": [
    "# Definir la variable value\n",
    "\n",
    "value = None\n",
    "\n",
    "# Intentar obtener el valor de la variable VALUE pasada como un argumento\n",
    "\n",
    "try:\n",
    "    # Obtener el valor de la variable VALUE definida en el entorno\n",
    "    ipython = get_ipython()\n",
    "    value = int(ipython.getoutput(\"echo $VALUE\")[0].strip())\n",
    "    if value <= 0:\n",
    "        raise ValueError(\"El valor de VALUE debe ser un entero positivo.\")\n",
    "except IndexError:\n",
    "    print(\"\\nNo se proporcionó VALUE. Usando el valor por defecto: 10^6\")\n",
    "    value = 10**6\n",
    "except ValueError as e:\n",
    "    print(f\"\\nError en el valor de VALUE: {e}. Usando el valor por defecto: 10^6\")\n",
    "    value = 10**6\n",
    "\n",
    "print(f\"\\nRunning with {value} elements.\")\n",
    "\n",
    "# Crear los arrays\n",
    "\n",
    "X = np.arange(value, dtype=np.float64)  # Array en la CPU\n",
    "Y = cp.arange(value, dtype=cp.float64)  # Array en la GPU\n"
   ]
  },
  {
   "cell_type": "markdown",
   "id": "72ce2fd2-361d-44ed-bd27-548e54b8202d",
   "metadata": {},
   "source": [
    "### Código Inicial"
   ]
  },
  {
   "cell_type": "code",
   "execution_count": 4,
   "id": "f6f5f9bd-547b-4370-acca-750c376eedce",
   "metadata": {},
   "outputs": [
    {
     "name": "stdout",
     "output_type": "stream",
     "text": [
      "\n",
      " Time taken by reduction operation using a function: 97 ms ± 1.12 ms per loop (mean ± std. dev. of 2 runs, 10 loops each)\n",
      "And the result of the sum of numbers in the range [0, value) is: 499999500000.0\n",
      "\n",
      "-----------------------------------------------------------------------------------------------------------------------------------------------\n",
      "\n",
      "Time taken by reduction operation using numpy.sum(): 203 µs ± 299 ns per loop (mean ± std. dev. of 2 runs, 1,000 loops each)\n",
      "Now, the result using numpy.sum(): 499999500000.0 \n",
      " \n",
      "-----------------------------------------------------------------------------------------------------------------------------------------------\n",
      "\n",
      "Time taken by reduction operation using numpy.ndarray.sum(): 202 µs ± 120 ns per loop (mean ± std. dev. of 2 runs, 1,000 loops each)\n",
      "Now, the result using numpy.ndarray.sum(): 499999500000.0 \n",
      "\n",
      "-----------------------------------------------------------------------------------------------------------------------------------------------\n",
      "\n"
     ]
    }
   ],
   "source": [
    "# Utilizando en secuencial\n",
    "\n",
    "tiempo = %timeit -r 2 -o -q reduc_operation(X)\n",
    "\n",
    "print(\"\\n Time taken by reduction operation using a function:\", tiempo)\n",
    "\n",
    "print(f\"And the result of the sum of numbers in the range [0, value) is: {reduc_operation(X)}\\n\")\n",
    "\n",
    "print(\"-----------------------------------------------------------------------------------------------------------------------------------------------\\n\")\n",
    "\n",
    "# Utilizando numpy.sum()\n",
    "\n",
    "tiempo = %timeit -r 2 -o -q np.sum(X)\n",
    "\n",
    "print(\"Time taken by reduction operation using numpy.sum():\", tiempo)\n",
    "\n",
    "print(\"Now, the result using numpy.sum():\", np.sum(X),\"\\n \")\n",
    "\n",
    "print(\"-----------------------------------------------------------------------------------------------------------------------------------------------\\n\")\n",
    "\n",
    "# Utilizando numpy.ndarray.sum()\n",
    "\n",
    "tiempo= %timeit -r 2 -o -q X.sum()\n",
    "\n",
    "print(\"Time taken by reduction operation using numpy.ndarray.sum():\", tiempo)\n",
    "\n",
    "print(\"Now, the result using numpy.ndarray.sum():\", X.sum(), \"\\n\")\n",
    "\n",
    "print(\"-----------------------------------------------------------------------------------------------------------------------------------------------\\n\")"
   ]
  },
  {
   "cell_type": "markdown",
   "id": "b4f44426-5744-4b8a-b1b4-978c7d3b0c36",
   "metadata": {},
   "source": [
    "### Código Nuevo "
   ]
  },
  {
   "cell_type": "markdown",
   "id": "3b44aebb-8b82-4ddd-8c4d-0940fd3e8875",
   "metadata": {},
   "source": [
    "#### Utilizando Cupy"
   ]
  },
  {
   "cell_type": "code",
   "execution_count": 5,
   "id": "b6cefdab-65bb-4d59-a1c7-d4b86e4a9214",
   "metadata": {},
   "outputs": [
    {
     "name": "stdout",
     "output_type": "stream",
     "text": [
      "\n",
      " Suma utilizando Cupy:\n",
      "Resultado: 499999500000.0, Tiempo: 0.009945 segundos\n",
      "\n",
      "---------------------------------------------------------------------\n",
      "\n"
     ]
    }
   ],
   "source": [
    "print(\"\\n Suma utilizando Cupy:\")\n",
    "\n",
    "start_time = time.time()\n",
    "array_sum = cp.sum(Y, dtype=cp.float64)\n",
    "time_1 = time.time() - start_time\n",
    "\n",
    "print(f\"Resultado: {array_sum}, Tiempo: {time_1:.6f} segundos\\n\")\n",
    "\n",
    "print(\"---------------------------------------------------------------------\\n\")"
   ]
  },
  {
   "cell_type": "markdown",
   "id": "32fe3898-e93a-4a34-bdf4-1ab102f5a856",
   "metadata": {},
   "source": [
    "#### Utilizando Numba"
   ]
  },
  {
   "cell_type": "code",
   "execution_count": 11,
   "id": "a155b2b3-c2f2-47a2-82ab-17124c32eef2",
   "metadata": {},
   "outputs": [
    {
     "name": "stdout",
     "output_type": "stream",
     "text": [
      "\n",
      "Suma utilizando una ufunc personalizada:\n",
      "Suma total con np.sum y datos transferidos de CUDA: 0.0, Tiempo: 0.023904 segundos\n",
      "---------------------------------------------------------------------\n",
      "\n"
     ]
    }
   ],
   "source": [
    "print(\"\\nSuma utilizando una ufunc personalizada:\")\n",
    "\n",
    "start_time = time.time()\n",
    "result =  reduc_operation_gpu(X)\n",
    "time_taken = time.time() - start_time\n",
    "\n",
    "print(f\"Suma total con np.sum y datos transferidos de CUDA: {result}, Tiempo: {time_taken:.6f} segundos\")\n",
    "\n",
    "print(\"---------------------------------------------------------------------\\n\")"
   ]
  },
  {
   "cell_type": "markdown",
   "id": "facf2091-8e7e-48a1-8036-7f78b150bbb2",
   "metadata": {},
   "source": [
    "### Análisis Comparativo: Cupy y Numba en la GPU\n",
    "\n",
    "En esta práctica, se realizaron comparaciones entre los paquetes **Cupy** y **Numba** para realizar una operación de suma en arrays grandes utilizando la GPU. Ambos enfoques fueron evaluados considerando la capacidad de cálculo paralelo de las GPUs y la facilidad de uso que ofrecen estas herramientas.\n",
    "\n",
    "#### Observaciones sobre Cupy\n",
    "**Cupy** es una biblioteca diseñada específicamente para GPUs, que replica la funcionalidad de **NumPy** pero optimizada para aprovechar al máximo el hardware de la GPU. Durante esta práctica, la función `cp.sum` se utilizó para calcular la suma directamente en la GPU. Gracias a las optimizaciones internas de **Cupy**, este enfoque fue eficiente y rápido, especialmente para operaciones estándar como la suma de arrays grandes.\n",
    "\n",
    "#### Observaciones sobre Numba\n",
    "Por otro lado, **Numba** permite definir funciones personalizadas que se ejecutan en la GPU mediante compilación JIT (*Just-In-Time*). Se implementó una ufunc para realizar la suma del array directamente en la GPU. Aunque **Numba** ofrece mayor flexibilidad y control sobre los cálculos, el rendimiento puede estar condicionado por la implementación de la función y la configuración del hardware. Este enfoque resulta útil para personalizar algoritmos o realizar operaciones más complejas que no están predefinidas.\n",
    "\n",
    "#### Comparación de Rendimiento\n",
    "- **Cupy** resultó ser más rápido para operaciones predefinidas como la suma, debido a su diseño optimizado y su integración nativa con GPUs.\n",
    "- **Numba** se destacó por su capacidad de personalización, lo que es crucial para escenarios donde se requieren operaciones específicas o no estándar.\n",
    "\n",
    "#### Conclusión\n",
    "Ambos paquetes son herramientas valiosas para aprovechar el poder computacional de las GPUs:\n",
    "- **Cupy** es ideal para operaciones estándar y predefinidas, como la suma, gracias a su simplicidad y velocidad.\n",
    "- **Numba** es más adecuado para algoritmos personalizados o situaciones que requieren un control detallado sobre los cálculos.\n",
    "\n",
    "La elección entre estos enfoques depende del tipo de tarea y los requisitos del proyecto.\n"
   ]
  }
 ],
 "metadata": {
  "kernelspec": {
   "display_name": "Python 3 (ipykernel)",
   "language": "python",
   "name": "python3"
  },
  "language_info": {
   "codemirror_mode": {
    "name": "ipython",
    "version": 3
   },
   "file_extension": ".py",
   "mimetype": "text/x-python",
   "name": "python",
   "nbconvert_exporter": "python",
   "pygments_lexer": "ipython3",
   "version": "3.8.17"
  }
 },
 "nbformat": 4,
 "nbformat_minor": 5
}
