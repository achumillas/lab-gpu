{
 "cells": [
  {
   "cell_type": "markdown",
   "id": "9de6917c-5a2c-4d20-a2cc-e3235fba8b65",
   "metadata": {},
   "source": [
    "# LAB-GPU EJERCICIO 1"
   ]
  },
  {
   "cell_type": "markdown",
   "id": "567a407d-3a97-48d8-a8a8-1cbc19681933",
   "metadata": {},
   "source": [
    "### Librerias"
   ]
  },
  {
   "cell_type": "code",
   "execution_count": 1,
   "id": "fb72fbeb-b029-42c0-b3f4-bf471427cb4f",
   "metadata": {},
   "outputs": [],
   "source": [
    "import numpy as np\n",
    "from multiprocessing import Pool\n",
    "import time\n",
    "from numba import njit, prange\n",
    "from IPython import get_ipython"
   ]
  },
  {
   "cell_type": "markdown",
   "id": "9ea46c80-a947-45c8-915b-9e49f1a7e5ca",
   "metadata": {},
   "source": [
    "### Funciones"
   ]
  },
  {
   "cell_type": "code",
   "execution_count": 9,
   "id": "e3c600f6-2869-4d62-ba9c-e9ae3fc24f8c",
   "metadata": {},
   "outputs": [],
   "source": [
    "#Funcion usando el método secuencial\n",
    "\n",
    "def reduc_operation(A):\n",
    "    \"\"\"Compute the sum of the elements of Array A in the range [0, value).\"\"\"\n",
    "    s = 0\n",
    "    for i in range(A.size):\n",
    "        s += A[i]\n",
    "    return s\n",
    "\n",
    "# Funcion usando multiprocessing\n",
    "\n",
    "def parallel_reduction(X, num_processes):\n",
    "    \"\"\"Perform parallel reduction using multiprocessing with num_processes.\"\"\"\n",
    "    n = len(X)\n",
    "    chunk_size = n // num_processes\n",
    "    sub_arrays = [X[i * chunk_size: (i + 1) * chunk_size] for i in range(num_processes - 1)]\n",
    "    sub_arrays.append(X[(num_processes - 1) * chunk_size:])  # Add the last chunk\n",
    "    \n",
    "    with Pool(processes=num_processes) as pool:\n",
    "        results = pool.map(reduc_operation, sub_arrays)\n",
    "    \n",
    "    return sum(results)\n",
    "\n",
    "# Funcion usando @njit\n",
    "\n",
    "@njit\n",
    "def reduc_operation_njit(A):\n",
    "    \"\"\"Compute the sum of the elements of Array A using Numba (njit).\"\"\"\n",
    "    s = 0\n",
    "    for i in range(A.size):\n",
    "        s += A[i]\n",
    "    return s\n",
    "\n",
    "# Funcion usando @njit(parallel=True)\n",
    "\n",
    "@njit(parallel=True)\n",
    "def reduc_operation_njit_parallel(A):\n",
    "    \"\"\"Compute the sum of the elements of Array A using Numba (parallel).\"\"\"\n",
    "    s = 0\n",
    "    for i in prange(A.size):\n",
    "        s += A[i]\n",
    "    return s\n"
   ]
  },
  {
   "cell_type": "markdown",
   "id": "848fa9ea-cf9f-49b5-a7f8-e2c91dc7ff97",
   "metadata": {},
   "source": [
    "### Variables"
   ]
  },
  {
   "cell_type": "code",
   "execution_count": 10,
   "id": "713b26c3-3378-4ed7-a8ad-27d56ece63bb",
   "metadata": {},
   "outputs": [
    {
     "name": "stdout",
     "output_type": "stream",
     "text": [
      "\n",
      "No se pudo obtener el valor: invalid literal for int() with base 10: ''\n",
      "\n",
      "Running with 5000000 elements.\n"
     ]
    }
   ],
   "source": [
    "# Definir la variable value\n",
    "\n",
    "value = None\n",
    "\n",
    "# Intentar obtener el valor de la variable VALUE pasada como un argumento\n",
    "try:\n",
    "    ipython = get_ipython()\n",
    "    value = int(ipython.getoutput(\"echo $VALUE\")[0])\n",
    "except Exception as e:\n",
    "    print(f\"\\nNo se pudo obtener el valor: {e}\")\n",
    "    value = 5*10**6  # Valor por defecto si no se define VALUE\n",
    "\n",
    "print(f\"\\nRunning with {value} elements.\")\n",
    "\n",
    "X = np.random.rand(value)"
   ]
  },
  {
   "cell_type": "markdown",
   "id": "72ce2fd2-361d-44ed-bd27-548e54b8202d",
   "metadata": {},
   "source": [
    "### Código Inicial"
   ]
  },
  {
   "cell_type": "code",
   "execution_count": 11,
   "id": "f6f5f9bd-547b-4370-acca-750c376eedce",
   "metadata": {},
   "outputs": [
    {
     "name": "stdout",
     "output_type": "stream",
     "text": [
      "\n",
      " Time taken by reduction operation using a function: 4.74 s ± 146 ms per loop (mean ± std. dev. of 2 runs, 1 loop each)\n",
      "And the result of the sum of numbers in the range [0, value) is: 2499665.155358141\n",
      "\n",
      "-----------------------------------------------------------------------------------------------------------------------------------------------\n",
      "\n",
      "Time taken by reduction operation using numpy.sum(): 6.37 ms ± 113 µs per loop (mean ± std. dev. of 2 runs, 100 loops each)\n",
      "Now, the result using numpy.sum(): 2499665.1553585343 \n",
      " \n",
      "-----------------------------------------------------------------------------------------------------------------------------------------------\n",
      "\n",
      "Time taken by reduction operation using numpy.ndarray.sum(): 6.18 ms ± 7.73 µs per loop (mean ± std. dev. of 2 runs, 100 loops each)\n",
      "Now, the result using numpy.ndarray.sum(): 2499665.1553585343 \n",
      "\n",
      "-----------------------------------------------------------------------------------------------------------------------------------------------\n",
      "\n"
     ]
    }
   ],
   "source": [
    "# Utilizando en secuencial\n",
    "\n",
    "tiempo = %timeit -r 2 -o -q reduc_operation(X)\n",
    "\n",
    "print(\"\\n Time taken by reduction operation using a function:\", tiempo)\n",
    "\n",
    "print(f\"And the result of the sum of numbers in the range [0, value) is: {reduc_operation(X)}\\n\")\n",
    "\n",
    "print(\"-----------------------------------------------------------------------------------------------------------------------------------------------\\n\")\n",
    "\n",
    "# Utilizando numpy.sum()\n",
    "\n",
    "tiempo = %timeit -r 2 -o -q np.sum(X)\n",
    "\n",
    "print(\"Time taken by reduction operation using numpy.sum():\", tiempo)\n",
    "\n",
    "print(\"Now, the result using numpy.sum():\", np.sum(X),\"\\n \")\n",
    "\n",
    "print(\"-----------------------------------------------------------------------------------------------------------------------------------------------\\n\")\n",
    "\n",
    "# Utilizando numpy.ndarray.sum()\n",
    "\n",
    "tiempo= %timeit -r 2 -o -q X.sum()\n",
    "\n",
    "print(\"Time taken by reduction operation using numpy.ndarray.sum():\", tiempo)\n",
    "\n",
    "print(\"Now, the result using numpy.ndarray.sum():\", X.sum(), \"\\n\")\n",
    "\n",
    "print(\"-----------------------------------------------------------------------------------------------------------------------------------------------\\n\")"
   ]
  },
  {
   "cell_type": "markdown",
   "id": "b4f44426-5744-4b8a-b1b4-978c7d3b0c36",
   "metadata": {},
   "source": [
    "### Código Nuevo "
   ]
  },
  {
   "cell_type": "markdown",
   "id": "899d37d9-0869-4622-b016-f13c8df13636",
   "metadata": {},
   "source": [
    "#### Utilizando procesos en paralelo"
   ]
  },
  {
   "cell_type": "code",
   "execution_count": 12,
   "id": "702a6e4d-c44f-4c36-9954-ac75f1c45091",
   "metadata": {},
   "outputs": [
    {
     "name": "stdout",
     "output_type": "stream",
     "text": [
      "\n",
      " Utilizando 1 proceso:\n",
      "Resultado: 2499665.155358141, Tiempo: 4.839544 segundos\n",
      "\n",
      "---------------------------------------------------------------------\n",
      "\n",
      " Utilizando 2 procesos:\n",
      "Resultado: 2499665.1553585418, Tiempo: 2.669036 segundos\n",
      "\n",
      "---------------------------------------------------------------------\n",
      "\n",
      " Utilizando 4 procesos:\n",
      "Resultado: 2499665.1553585185, Tiempo: 1.451809 segundos\n",
      "\n",
      "---------------------------------------------------------------------\n",
      "\n"
     ]
    }
   ],
   "source": [
    "# Realizando 1 proceso\n",
    "\n",
    "print(\"\\n Utilizando 1 proceso:\")\n",
    "\n",
    "start_time = time.time()\n",
    "result_1_process = parallel_reduction(X, 1)\n",
    "time_1 = time.time() - start_time\n",
    "\n",
    "print(f\"Resultado: {result_1_process}, Tiempo: {time_1:.6f} segundos\\n\")\n",
    "\n",
    "print(\"---------------------------------------------------------------------\")\n",
    "\n",
    "# Realizando 2 procesos\n",
    "\n",
    "print(\"\\n Utilizando 2 procesos:\")\n",
    "\n",
    "start_time = time.time()\n",
    "result_2_process = parallel_reduction(X, 2)\n",
    "time_2 = time.time() - start_time\n",
    "\n",
    "print(f\"Resultado: {result_2_process}, Tiempo: {time_2:.6f} segundos\\n\")\n",
    "\n",
    "print(\"---------------------------------------------------------------------\")\n",
    "\n",
    "# Realizando 4 procesos\n",
    "\n",
    "print(\"\\n Utilizando 4 procesos:\")\n",
    "\n",
    "start_time = time.time()\n",
    "result_4_process = parallel_reduction(X, 4)\n",
    "time_4 = time.time() - start_time\n",
    "\n",
    "print(f\"Resultado: {result_4_process}, Tiempo: {time_4:.6f} segundos\\n\")\n",
    "\n",
    "print(\"---------------------------------------------------------------------\\n\")"
   ]
  },
  {
   "cell_type": "markdown",
   "id": "32fe3898-e93a-4a34-bdf4-1ab102f5a856",
   "metadata": {},
   "source": [
    "#### Utilizando Numba"
   ]
  },
  {
   "cell_type": "code",
   "execution_count": 13,
   "id": "cdcb2b8c-e90d-40e0-842b-2e32dde71b15",
   "metadata": {},
   "outputs": [
    {
     "name": "stdout",
     "output_type": "stream",
     "text": [
      "\n",
      " Tiempo función original: 4.813196 segundos, Resultado: 2499665.155358141 \n",
      "\n",
      "-------------------------------------------------------------------------------------------------------------------\n",
      "\n",
      "Tiempo con @njit: 0.527171 segundos, Resultado: 2499665.155358141 \n",
      "\n",
      "-------------------------------------------------------------------------------------------------------------------\n",
      "\n",
      "Tiempo con @njit(parallel=True): 1.907397 segundos, Resultado: 2499665.1553585413 \n",
      "\n",
      "-------------------------------------------------------------------------------------------------------------------\n",
      "\n"
     ]
    }
   ],
   "source": [
    "# Utilizando la función original\n",
    "\n",
    "start_time = time.time()\n",
    "result_original = reduc_operation(X)\n",
    "time_original = time.time() - start_time\n",
    "\n",
    "print(\"\\n\",f\"Tiempo función original: {time_original:.6f} segundos, Resultado: {result_original}\",\"\\n\")\n",
    "\n",
    "print(\"-------------------------------------------------------------------------------------------------------------------\\n\")\n",
    "\n",
    "# Utilizando la función con @njit\n",
    "\n",
    "start_time = time.time()\n",
    "result_njit = reduc_operation_njit(X)\n",
    "time_njit = time.time() - start_time\n",
    "\n",
    "print(f\"Tiempo con @njit: {time_njit:.6f} segundos, Resultado: {result_njit}\",\"\\n\")\n",
    "\n",
    "print(\"-------------------------------------------------------------------------------------------------------------------\\n\")\n",
    "\n",
    "# Utilizando la función @njit(parallel=True)\n",
    "\n",
    "start_time = time.time()\n",
    "result_njit_parallel = reduc_operation_njit_parallel(X)\n",
    "time_njit_parallel = time.time() - start_time\n",
    "\n",
    "print(f\"Tiempo con @njit(parallel=True): {time_njit_parallel:.6f} segundos, Resultado: {result_njit_parallel}\",\"\\n\")\n",
    "\n",
    "print(\"-------------------------------------------------------------------------------------------------------------------\\n\")"
   ]
  },
  {
   "cell_type": "markdown",
   "id": "3dce92c4-8e6f-4cc7-9562-7102bc6c3e25",
   "metadata": {},
   "source": [
    "### Comentario sobre los resultados obtenidos\n",
    "\n",
    "#### **Resultados con Multiprocessing**\n",
    "- **1 proceso:** Resultado: `2,499,665.155358141`, Tiempo: `4.839544 segundos`\n",
    "- **2 procesos:** Resultado: `2,499,665.1553585418`, Tiempo: `2.669036 segundos`\n",
    "- **4 procesos:** Resultado: `2,499,665.1553585185`, Tiempo: `1.451809 segundos`\n",
    "\n",
    "**Observaciones:**  \n",
    "- Al aumentar la cantidad de procesos, el tiempo de ejecución disminuye considerablemente, lo que confirma la efectividad de la paralelización.  \n",
    "- Sin embargo, la reducción de tiempo tiene un límite debido a la sobrecarga asociada con la comunicación entre procesos.\n",
    "\n",
    "#### **Resultados con Numba**\n",
    "- **Función original (Python puro):** Resultado: `2,499,665.155358141`, Tiempo: `4.813196 segundos`\n",
    "- **@njit:** Resultado: `2,499,665.155358141`, Tiempo: `0.527171 segundos`\n",
    "- **@njit(parallel=True):** Resultado: `2,499,665.1553585413`, Tiempo: `1.907397 segundos`\n",
    "\n",
    "**Observaciones:**  \n",
    "- La optimización con `@njit` proporciona una mejora drástica en el tiempo de ejecución al convertir el código Python a código máquina eficiente.  \n",
    "- Sorprendentemente, `@njit(parallel=True)` es menos eficiente que `@njit` en este caso, probablemente debido a la sobrecarga de paralelización para este tipo de problema.\n",
    "\n",
    "#### **Conclusión General**\n",
    "- `@njit` de Numba es el método más rápido y eficiente para esta tarea, superando ampliamente a Multiprocessing.  \n",
    "- Multiprocessing es útil en casos donde Numba no es una opción, pero introduce mayor complejidad y sobrecarga.  \n",
    "- La elección entre estos enfoques depende de la naturaleza del problema y los recursos disponibles. Para tareas como esta, Numba es la opción más recomendada.\n"
   ]
  }
 ],
 "metadata": {
  "kernelspec": {
   "display_name": "Python 3 (ipykernel)",
   "language": "python",
   "name": "python3"
  },
  "language_info": {
   "codemirror_mode": {
    "name": "ipython",
    "version": 3
   },
   "file_extension": ".py",
   "mimetype": "text/x-python",
   "name": "python",
   "nbconvert_exporter": "python",
   "pygments_lexer": "ipython3",
   "version": "3.8.17"
  }
 },
 "nbformat": 4,
 "nbformat_minor": 5
}
